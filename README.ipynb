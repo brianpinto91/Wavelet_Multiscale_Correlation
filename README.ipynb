{
 "cells": [
  {
   "cell_type": "markdown",
   "metadata": {},
   "source": [
    "Wavelet Multiscale Correlation\n",
    "=========================\n",
    "\n",
    "The *Wavelet Multi-scale Correlation (WMC)* uses wavelet coefficients to calculate correlations between time series at different time scales. It has been used in wide range of fields like finance, economics, and climate studies [1, 3]. \n",
    "\n",
    "Fourier transform does not represent abrupt changes efficiently because it is not a local function in time. Wavelets are well localized in time and frequency can be used for simultaneous time and frequency analysis. Using a *Discrete Wavelet Transform (DWT)*, a time series can be decomposed into time and frequency components. The decomposed components are called wavelet coefficients. Here we focus on the methodology of using these wavelet co-efficient to obtain correlations at different time scales. For more detailed introduction of wavelets and its applications, I can recommend reading the books [3, 2]. \n",
    "\n",
    "A type of *DWT* called *Maximal Overlap Discrete Wavelet Transform (MODWT)* gives same number of wavelet co-efficient at all the time scales and hence is used in correlation analysis. Consider two discrete time series $X$ and $Y$ of length $T$. Using *MODWT*, each of the time series can be decomposed into $J = 1,2,...\\log_{2}T$ time scales. Each of these time scales will have $T$ discrete wavelet coefficients, each represented as $d^{j,t}_X$ and $d^{j,t}_Y$, where j is the time scale and $t=1,2,...,T$ is the discrete time step. Variance and co-variance of these time series can be then calculated as:\n",
    "\\begin{equation}\n",
    "    Var_{X}^{j}\\equiv\\frac{1}{T_j}\\sum_{t=M_j-1}^{T-1}\\left[d^{j,t}_{X}\\right]^2\n",
    "\\end{equation}\n",
    "\\begin{equation}\n",
    "        Var_{Y}^{j}\\equiv\\frac{1}{T_j}\\sum_{t=M_j-1}^{T-1}\\left[d^{j,t}_{Y}\\right]^2\n",
    "\\end{equation}\n",
    "\\begin{equation}\n",
    "        COV_{XY}^{j}\\equiv\\frac{1}{T_j}\\sum_{t=M_j-1}^{T-1}d^{j,t}_{X}d^{j,t}_{Y}\\,,\n",
    "\\end{equation}\n",
    "where $Var_{X}^{j}$ and $Var_{Y}^{j}$ are the variances at $j^{th}$ scale of the time series $X$ and $Y$ respectively. $COV_{XY}^{j}$ is the co-variance between $X$ and $Y$ at $j^{th}$ scale. \\mbox{$T_j=T-M_j-1$} stands for the number of wavelet coefficients unaffected by the boundary, with $M_j = (2^j-1)(M-1)$ and $M$ is the length of the wavelet filter used. The \\acf{wmc} at $j^{th}$ scale can then be found using the equation:\n",
    "\\begin{equation}\n",
    "    \\rho_{XY}^{j}\\equiv \\frac{COV_{XY}^{j}}{\\sqrt{Var_{Y}^{j}Var_{X}^{j}}},\n",
    "\\end{equation}\n",
    "The values of $\\rho_{XY}^{j}$ can be between -1 and 1, with the extreme values indicating complete correlation or inverse correlation, and 0 indicating no correlation."
   ]
  },
  {
   "cell_type": "markdown",
   "metadata": {},
   "source": [
    "## Abbreviations\n",
    "\n",
    "**DWT**:  Discrete Wavelet Transform  \n",
    "**MODWT**:  Maximal Overlap Discrete Wavelet Transform  \n",
    "**WMC**:  Wavelet Multi-scale Correlation  \n"
   ]
  },
  {
   "cell_type": "markdown",
   "metadata": {},
   "source": [
    "## Bibliography\n",
    "\n",
    "[1] Ankit Agarwal, Rathinasamy Maheswaran, Norbert Marwan, Levke Caesar, andJürgen Kurths. Wavelet-based multiscale similarity measure for complex net-works.The European Physical Journal B, 91(11):296, 2018.[2] Lokenath Debnath and Firdous Ahmad Shah.Wavelet transforms and theirapplications. Springer, 2 edition, 2002.[3] Ramazan Gençay, Faruk Selçuk, and Brandon J Whitcher.An introduction towavelets and other filtering methods in finance and economics. Elsevier, 2001.\n"
   ]
  }
 ],
 "metadata": {
  "kernelspec": {
   "display_name": "Python 3",
   "language": "python",
   "name": "python3"
  },
  "language_info": {
   "codemirror_mode": {
    "name": "ipython",
    "version": 3
   },
   "file_extension": ".py",
   "mimetype": "text/x-python",
   "name": "python",
   "nbconvert_exporter": "python",
   "pygments_lexer": "ipython3",
   "version": "3.6.8"
  }
 },
 "nbformat": 4,
 "nbformat_minor": 2
}
